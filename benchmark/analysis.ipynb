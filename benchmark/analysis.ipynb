{
 "cells": [
  {
   "cell_type": "code",
   "execution_count": 1,
   "id": "2bf3292b-fa3d-4388-9a13-878c8a63bd93",
   "metadata": {},
   "outputs": [],
   "source": [
    "import pandas as pd\n",
    "import seaborn as sns\n",
    "import matplotlib.pyplot as plt\n",
    "import numpy as np\n",
    "import scipy.stats as stats\n",
    "%matplotlib inline\n",
    "import plotly.express as px\n",
    "import plotly.graph_objects as go\n",
    "import upsetplot\n",
    "from functools import reduce\n",
    "import warnings\n",
    "warnings.filterwarnings('ignore')\n"
   ]
  },
  {
   "cell_type": "code",
   "execution_count": 21,
   "id": "04e4045b-1e03-4dc1-bb73-5941584bc7b0",
   "metadata": {},
   "outputs": [],
   "source": [
    "## Data loading"
   ]
  },
  {
   "cell_type": "code",
   "execution_count": 2,
   "id": "5dd184e5-b003-4397-85ac-b0c0460dfd3e",
   "metadata": {},
   "outputs": [
    {
     "name": "stdout",
     "output_type": "stream",
     "text": [
      "total 48\n",
      "drwxrwxr-x 24 priesgo 4096 Jun  8 06:57 \u001b[0m\u001b[01;34mcondaenv\u001b[0m/\n",
      "drwxrwxr-x  2 priesgo 4096 Jun  8 06:54 \u001b[01;34mERR5229917\u001b[0m/\n",
      "drwxrwxr-x  2 priesgo 4096 Jun  8 06:54 \u001b[01;34mERR5397623\u001b[0m/\n",
      "drwxrwxr-x  2 priesgo 4096 Jun  8 06:53 \u001b[01;34mERR5401235\u001b[0m/\n",
      "drwxrwxr-x  2 priesgo 4096 Jun  8 06:53 \u001b[01;34mERR5409159\u001b[0m/\n",
      "drwxrwxr-x  2 priesgo 4096 Jun  8 06:51 \u001b[01;34mERR5514762\u001b[0m/\n",
      "-rwxrwxr-x  1 priesgo  105 Jun  8 06:53 \u001b[01;32mivar2tab\u001b[0m*\n",
      "-rwxrwxr-x  1 priesgo  186 Jun  8 05:02 \u001b[01;32mrun_gatk.sh\u001b[0m*\n",
      "-rwxrwxr-x  1 priesgo  222 Jun  8 04:48 \u001b[01;32mrun_ivar.sh\u001b[0m*\n",
      "-rwxrwxr-x  1 priesgo  306 Jun  7 19:18 \u001b[01;32mrun_lofreq.sh\u001b[0m*\n",
      "-rw-rw-r--  1 priesgo   72 Jun  8 06:58 Untitled.ipynb\n",
      "-rwxrwxr-x  1 priesgo  114 Jun  8 06:38 \u001b[01;32mvcf2tab\u001b[0m*\n"
     ]
    }
   ],
   "source": [
    "ll"
   ]
  },
  {
   "cell_type": "code",
   "execution_count": 7,
   "id": "1405d6ae-639d-47a4-9e4e-e0e9acd0e445",
   "metadata": {},
   "outputs": [
    {
     "name": "stdout",
     "output_type": "stream",
     "text": [
      "./ERR5514762/ERR5514762.preprocessed.lofreq.vcf.tab\n",
      "./ERR5401235/ERR5401235.preprocessed.lofreq.vcf.tab\n",
      "./ERR5409159/ERR5409159.preprocessed.lofreq.vcf.tab\n",
      "./ERR5397623/ERR5397623.preprocessed.lofreq.vcf.tab\n",
      "./ERR5229917/ERR5229917.preprocessed.lofreq.vcf.tab\n"
     ]
    }
   ],
   "source": [
    "%%bash\n",
    "find . -name *.lofreq.vcf.tab"
   ]
  },
  {
   "cell_type": "code",
   "execution_count": 35,
   "id": "8f505393-e520-4a22-b37e-04895e1ce3b9",
   "metadata": {},
   "outputs": [],
   "source": [
    "def load_sample(file_name, sample_name, caller):\n",
    "    data = pd.read_csv(file_name, sep=\"\\t\", names=[\"chromosome\", \"position\", \"reference\", \"alternate\"])\n",
    "    data[\"sample\"] = sample_name\n",
    "    data[\"caller\"] = caller\n",
    "    data[\"indel\"] = data[[\"reference\", \"alternate\"]].apply(lambda x: len(x[0]) > 1 or len(x[1]) > 1, axis=1)\n",
    "    return data"
   ]
  },
  {
   "cell_type": "code",
   "execution_count": 36,
   "id": "1bc1bd0d-1e44-42f9-a6bc-1a8ec2ef4e15",
   "metadata": {},
   "outputs": [
    {
     "data": {
      "text/html": [
       "<div>\n",
       "<style scoped>\n",
       "    .dataframe tbody tr th:only-of-type {\n",
       "        vertical-align: middle;\n",
       "    }\n",
       "\n",
       "    .dataframe tbody tr th {\n",
       "        vertical-align: top;\n",
       "    }\n",
       "\n",
       "    .dataframe thead th {\n",
       "        text-align: right;\n",
       "    }\n",
       "</style>\n",
       "<table border=\"1\" class=\"dataframe\">\n",
       "  <thead>\n",
       "    <tr style=\"text-align: right;\">\n",
       "      <th></th>\n",
       "      <th>chromosome</th>\n",
       "      <th>position</th>\n",
       "      <th>reference</th>\n",
       "      <th>alternate</th>\n",
       "      <th>sample</th>\n",
       "      <th>caller</th>\n",
       "      <th>indel</th>\n",
       "    </tr>\n",
       "  </thead>\n",
       "  <tbody>\n",
       "    <tr>\n",
       "      <th>0</th>\n",
       "      <td>MN908947.3</td>\n",
       "      <td>71</td>\n",
       "      <td>C</td>\n",
       "      <td>G</td>\n",
       "      <td>ERR5514762</td>\n",
       "      <td>lofreq</td>\n",
       "      <td>False</td>\n",
       "    </tr>\n",
       "    <tr>\n",
       "      <th>1</th>\n",
       "      <td>MN908947.3</td>\n",
       "      <td>241</td>\n",
       "      <td>C</td>\n",
       "      <td>T</td>\n",
       "      <td>ERR5514762</td>\n",
       "      <td>lofreq</td>\n",
       "      <td>False</td>\n",
       "    </tr>\n",
       "    <tr>\n",
       "      <th>2</th>\n",
       "      <td>MN908947.3</td>\n",
       "      <td>306</td>\n",
       "      <td>T</td>\n",
       "      <td>TC</td>\n",
       "      <td>ERR5514762</td>\n",
       "      <td>lofreq</td>\n",
       "      <td>True</td>\n",
       "    </tr>\n",
       "    <tr>\n",
       "      <th>3</th>\n",
       "      <td>MN908947.3</td>\n",
       "      <td>330</td>\n",
       "      <td>A</td>\n",
       "      <td>G</td>\n",
       "      <td>ERR5514762</td>\n",
       "      <td>lofreq</td>\n",
       "      <td>False</td>\n",
       "    </tr>\n",
       "    <tr>\n",
       "      <th>4</th>\n",
       "      <td>MN908947.3</td>\n",
       "      <td>370</td>\n",
       "      <td>G</td>\n",
       "      <td>C</td>\n",
       "      <td>ERR5514762</td>\n",
       "      <td>lofreq</td>\n",
       "      <td>False</td>\n",
       "    </tr>\n",
       "  </tbody>\n",
       "</table>\n",
       "</div>"
      ],
      "text/plain": [
       "   chromosome  position reference alternate      sample  caller  indel\n",
       "0  MN908947.3        71         C         G  ERR5514762  lofreq  False\n",
       "1  MN908947.3       241         C         T  ERR5514762  lofreq  False\n",
       "2  MN908947.3       306         T        TC  ERR5514762  lofreq   True\n",
       "3  MN908947.3       330         A         G  ERR5514762  lofreq  False\n",
       "4  MN908947.3       370         G         C  ERR5514762  lofreq  False"
      ]
     },
     "execution_count": 36,
     "metadata": {},
     "output_type": "execute_result"
    }
   ],
   "source": [
    "lofreq1 = load_sample(\"./ERR5514762/ERR5514762.preprocessed.lofreq.vcf.tab\", sample_name=\"ERR5514762\", caller=\"lofreq\")\n",
    "lofreq2 = load_sample(\"./ERR5401235/ERR5401235.preprocessed.lofreq.vcf.tab\", sample_name=\"ERR5401235\", caller=\"lofreq\")\n",
    "lofreq3 = load_sample(\"./ERR5409159/ERR5409159.preprocessed.lofreq.vcf.tab\", sample_name=\"ERR5409159\", caller=\"lofreq\")\n",
    "lofreq4 = load_sample(\"./ERR5397623/ERR5397623.preprocessed.lofreq.vcf.tab\", sample_name=\"ERR5397623\", caller=\"lofreq\")\n",
    "lofreq5 = load_sample(\"./ERR5229917/ERR5229917.preprocessed.lofreq.vcf.tab\", sample_name=\"ERR5229917\", caller=\"lofreq\")\n",
    "lofreq = pd.concat([lofreq1, lofreq2, lofreq3, lofreq4, lofreq5])\n",
    "lofreq.head()"
   ]
  },
  {
   "cell_type": "code",
   "execution_count": 37,
   "id": "958bbe70-a92f-4343-a9f5-6bca0c09ceee",
   "metadata": {},
   "outputs": [
    {
     "data": {
      "text/html": [
       "<div>\n",
       "<style scoped>\n",
       "    .dataframe tbody tr th:only-of-type {\n",
       "        vertical-align: middle;\n",
       "    }\n",
       "\n",
       "    .dataframe tbody tr th {\n",
       "        vertical-align: top;\n",
       "    }\n",
       "\n",
       "    .dataframe thead th {\n",
       "        text-align: right;\n",
       "    }\n",
       "</style>\n",
       "<table border=\"1\" class=\"dataframe\">\n",
       "  <thead>\n",
       "    <tr style=\"text-align: right;\">\n",
       "      <th></th>\n",
       "      <th>chromosome</th>\n",
       "      <th>position</th>\n",
       "      <th>reference</th>\n",
       "      <th>alternate</th>\n",
       "      <th>sample</th>\n",
       "      <th>caller</th>\n",
       "      <th>indel</th>\n",
       "    </tr>\n",
       "  </thead>\n",
       "  <tbody>\n",
       "    <tr>\n",
       "      <th>0</th>\n",
       "      <td>MN908947.3</td>\n",
       "      <td>241</td>\n",
       "      <td>C</td>\n",
       "      <td>T</td>\n",
       "      <td>ERR5514762</td>\n",
       "      <td>lofreq_01</td>\n",
       "      <td>False</td>\n",
       "    </tr>\n",
       "    <tr>\n",
       "      <th>1</th>\n",
       "      <td>MN908947.3</td>\n",
       "      <td>913</td>\n",
       "      <td>C</td>\n",
       "      <td>T</td>\n",
       "      <td>ERR5514762</td>\n",
       "      <td>lofreq_01</td>\n",
       "      <td>False</td>\n",
       "    </tr>\n",
       "    <tr>\n",
       "      <th>2</th>\n",
       "      <td>MN908947.3</td>\n",
       "      <td>2453</td>\n",
       "      <td>C</td>\n",
       "      <td>T</td>\n",
       "      <td>ERR5514762</td>\n",
       "      <td>lofreq_01</td>\n",
       "      <td>False</td>\n",
       "    </tr>\n",
       "    <tr>\n",
       "      <th>3</th>\n",
       "      <td>MN908947.3</td>\n",
       "      <td>3037</td>\n",
       "      <td>C</td>\n",
       "      <td>T</td>\n",
       "      <td>ERR5514762</td>\n",
       "      <td>lofreq_01</td>\n",
       "      <td>False</td>\n",
       "    </tr>\n",
       "    <tr>\n",
       "      <th>4</th>\n",
       "      <td>MN908947.3</td>\n",
       "      <td>5388</td>\n",
       "      <td>C</td>\n",
       "      <td>A</td>\n",
       "      <td>ERR5514762</td>\n",
       "      <td>lofreq_01</td>\n",
       "      <td>False</td>\n",
       "    </tr>\n",
       "  </tbody>\n",
       "</table>\n",
       "</div>"
      ],
      "text/plain": [
       "   chromosome  position reference alternate      sample     caller  indel\n",
       "0  MN908947.3       241         C         T  ERR5514762  lofreq_01  False\n",
       "1  MN908947.3       913         C         T  ERR5514762  lofreq_01  False\n",
       "2  MN908947.3      2453         C         T  ERR5514762  lofreq_01  False\n",
       "3  MN908947.3      3037         C         T  ERR5514762  lofreq_01  False\n",
       "4  MN908947.3      5388         C         A  ERR5514762  lofreq_01  False"
      ]
     },
     "execution_count": 37,
     "metadata": {},
     "output_type": "execute_result"
    }
   ],
   "source": [
    "lofreq1 = load_sample(\"./ERR5514762/ERR5514762.preprocessed.lofreq.vcf.filter01.tab\", sample_name=\"ERR5514762\", caller=\"lofreq_01\")\n",
    "lofreq2 = load_sample(\"./ERR5401235/ERR5401235.preprocessed.lofreq.vcf.filter01.tab\", sample_name=\"ERR5401235\", caller=\"lofreq_01\")\n",
    "lofreq3 = load_sample(\"./ERR5409159/ERR5409159.preprocessed.lofreq.vcf.filter01.tab\", sample_name=\"ERR5409159\", caller=\"lofreq_01\")\n",
    "lofreq4 = load_sample(\"./ERR5397623/ERR5397623.preprocessed.lofreq.vcf.filter01.tab\", sample_name=\"ERR5397623\", caller=\"lofreq_01\")\n",
    "lofreq5 = load_sample(\"./ERR5229917/ERR5229917.preprocessed.lofreq.vcf.filter01.tab\", sample_name=\"ERR5229917\", caller=\"lofreq_01\")\n",
    "lofreq_01 = pd.concat([lofreq1, lofreq2, lofreq3, lofreq4, lofreq5])\n",
    "lofreq_01.head()"
   ]
  },
  {
   "cell_type": "code",
   "execution_count": 38,
   "id": "1c665c38-c480-4675-a12d-43c982b3b69a",
   "metadata": {},
   "outputs": [
    {
     "data": {
      "text/html": [
       "<div>\n",
       "<style scoped>\n",
       "    .dataframe tbody tr th:only-of-type {\n",
       "        vertical-align: middle;\n",
       "    }\n",
       "\n",
       "    .dataframe tbody tr th {\n",
       "        vertical-align: top;\n",
       "    }\n",
       "\n",
       "    .dataframe thead th {\n",
       "        text-align: right;\n",
       "    }\n",
       "</style>\n",
       "<table border=\"1\" class=\"dataframe\">\n",
       "  <thead>\n",
       "    <tr style=\"text-align: right;\">\n",
       "      <th></th>\n",
       "      <th>chromosome</th>\n",
       "      <th>position</th>\n",
       "      <th>reference</th>\n",
       "      <th>alternate</th>\n",
       "      <th>sample</th>\n",
       "      <th>caller</th>\n",
       "      <th>indel</th>\n",
       "    </tr>\n",
       "  </thead>\n",
       "  <tbody>\n",
       "    <tr>\n",
       "      <th>0</th>\n",
       "      <td>MN908947.3</td>\n",
       "      <td>241</td>\n",
       "      <td>C</td>\n",
       "      <td>T</td>\n",
       "      <td>ERR5514762</td>\n",
       "      <td>lofreq_02</td>\n",
       "      <td>False</td>\n",
       "    </tr>\n",
       "    <tr>\n",
       "      <th>1</th>\n",
       "      <td>MN908947.3</td>\n",
       "      <td>913</td>\n",
       "      <td>C</td>\n",
       "      <td>T</td>\n",
       "      <td>ERR5514762</td>\n",
       "      <td>lofreq_02</td>\n",
       "      <td>False</td>\n",
       "    </tr>\n",
       "    <tr>\n",
       "      <th>2</th>\n",
       "      <td>MN908947.3</td>\n",
       "      <td>2453</td>\n",
       "      <td>C</td>\n",
       "      <td>T</td>\n",
       "      <td>ERR5514762</td>\n",
       "      <td>lofreq_02</td>\n",
       "      <td>False</td>\n",
       "    </tr>\n",
       "    <tr>\n",
       "      <th>3</th>\n",
       "      <td>MN908947.3</td>\n",
       "      <td>3037</td>\n",
       "      <td>C</td>\n",
       "      <td>T</td>\n",
       "      <td>ERR5514762</td>\n",
       "      <td>lofreq_02</td>\n",
       "      <td>False</td>\n",
       "    </tr>\n",
       "    <tr>\n",
       "      <th>4</th>\n",
       "      <td>MN908947.3</td>\n",
       "      <td>5388</td>\n",
       "      <td>C</td>\n",
       "      <td>A</td>\n",
       "      <td>ERR5514762</td>\n",
       "      <td>lofreq_02</td>\n",
       "      <td>False</td>\n",
       "    </tr>\n",
       "  </tbody>\n",
       "</table>\n",
       "</div>"
      ],
      "text/plain": [
       "   chromosome  position reference alternate      sample     caller  indel\n",
       "0  MN908947.3       241         C         T  ERR5514762  lofreq_02  False\n",
       "1  MN908947.3       913         C         T  ERR5514762  lofreq_02  False\n",
       "2  MN908947.3      2453         C         T  ERR5514762  lofreq_02  False\n",
       "3  MN908947.3      3037         C         T  ERR5514762  lofreq_02  False\n",
       "4  MN908947.3      5388         C         A  ERR5514762  lofreq_02  False"
      ]
     },
     "execution_count": 38,
     "metadata": {},
     "output_type": "execute_result"
    }
   ],
   "source": [
    "lofreq1 = load_sample(\"./ERR5514762/ERR5514762.preprocessed.lofreq.vcf.filter02.tab\", sample_name=\"ERR5514762\", caller=\"lofreq_02\")\n",
    "lofreq2 = load_sample(\"./ERR5401235/ERR5401235.preprocessed.lofreq.vcf.filter02.tab\", sample_name=\"ERR5401235\", caller=\"lofreq_02\")\n",
    "lofreq3 = load_sample(\"./ERR5409159/ERR5409159.preprocessed.lofreq.vcf.filter02.tab\", sample_name=\"ERR5409159\", caller=\"lofreq_02\")\n",
    "lofreq4 = load_sample(\"./ERR5397623/ERR5397623.preprocessed.lofreq.vcf.filter02.tab\", sample_name=\"ERR5397623\", caller=\"lofreq_02\")\n",
    "lofreq5 = load_sample(\"./ERR5229917/ERR5229917.preprocessed.lofreq.vcf.filter02.tab\", sample_name=\"ERR5229917\", caller=\"lofreq_02\")\n",
    "lofreq_02 = pd.concat([lofreq1, lofreq2, lofreq3, lofreq4, lofreq5])\n",
    "lofreq_02.head()"
   ]
  },
  {
   "cell_type": "code",
   "execution_count": 15,
   "id": "fce02cc7-7ccd-4a57-8122-7ad8c407f945",
   "metadata": {},
   "outputs": [
    {
     "name": "stdout",
     "output_type": "stream",
     "text": [
      "./ERR5514762/ERR5514762.preprocessed.ivar.tab\n",
      "./ERR5401235/ERR5401235.preprocessed.ivar.tab\n",
      "./ERR5409159/ERR5409159.preprocessed.ivar.tab\n",
      "./ERR5397623/ERR5397623.preprocessed.ivar.tab\n",
      "./ERR5229917/ERR5229917.preprocessed.ivar.tab\n"
     ]
    }
   ],
   "source": [
    "%%bash\n",
    "find . -name *.ivar.tab"
   ]
  },
  {
   "cell_type": "code",
   "execution_count": 39,
   "id": "e6e911a0-5917-4da0-8607-912315cf80d2",
   "metadata": {},
   "outputs": [
    {
     "data": {
      "text/html": [
       "<div>\n",
       "<style scoped>\n",
       "    .dataframe tbody tr th:only-of-type {\n",
       "        vertical-align: middle;\n",
       "    }\n",
       "\n",
       "    .dataframe tbody tr th {\n",
       "        vertical-align: top;\n",
       "    }\n",
       "\n",
       "    .dataframe thead th {\n",
       "        text-align: right;\n",
       "    }\n",
       "</style>\n",
       "<table border=\"1\" class=\"dataframe\">\n",
       "  <thead>\n",
       "    <tr style=\"text-align: right;\">\n",
       "      <th></th>\n",
       "      <th>chromosome</th>\n",
       "      <th>position</th>\n",
       "      <th>reference</th>\n",
       "      <th>alternate</th>\n",
       "      <th>sample</th>\n",
       "      <th>caller</th>\n",
       "      <th>indel</th>\n",
       "    </tr>\n",
       "  </thead>\n",
       "  <tbody>\n",
       "    <tr>\n",
       "      <th>0</th>\n",
       "      <td>MN908947.3</td>\n",
       "      <td>37</td>\n",
       "      <td>C</td>\n",
       "      <td>G</td>\n",
       "      <td>ERR5514762</td>\n",
       "      <td>ivar</td>\n",
       "      <td>False</td>\n",
       "    </tr>\n",
       "    <tr>\n",
       "      <th>1</th>\n",
       "      <td>MN908947.3</td>\n",
       "      <td>38</td>\n",
       "      <td>A</td>\n",
       "      <td>G</td>\n",
       "      <td>ERR5514762</td>\n",
       "      <td>ivar</td>\n",
       "      <td>False</td>\n",
       "    </tr>\n",
       "    <tr>\n",
       "      <th>2</th>\n",
       "      <td>MN908947.3</td>\n",
       "      <td>241</td>\n",
       "      <td>C</td>\n",
       "      <td>T</td>\n",
       "      <td>ERR5514762</td>\n",
       "      <td>ivar</td>\n",
       "      <td>False</td>\n",
       "    </tr>\n",
       "    <tr>\n",
       "      <th>3</th>\n",
       "      <td>MN908947.3</td>\n",
       "      <td>330</td>\n",
       "      <td>A</td>\n",
       "      <td>G</td>\n",
       "      <td>ERR5514762</td>\n",
       "      <td>ivar</td>\n",
       "      <td>False</td>\n",
       "    </tr>\n",
       "    <tr>\n",
       "      <th>4</th>\n",
       "      <td>MN908947.3</td>\n",
       "      <td>330</td>\n",
       "      <td>A</td>\n",
       "      <td>G</td>\n",
       "      <td>ERR5514762</td>\n",
       "      <td>ivar</td>\n",
       "      <td>False</td>\n",
       "    </tr>\n",
       "  </tbody>\n",
       "</table>\n",
       "</div>"
      ],
      "text/plain": [
       "   chromosome  position reference alternate      sample caller  indel\n",
       "0  MN908947.3        37         C         G  ERR5514762   ivar  False\n",
       "1  MN908947.3        38         A         G  ERR5514762   ivar  False\n",
       "2  MN908947.3       241         C         T  ERR5514762   ivar  False\n",
       "3  MN908947.3       330         A         G  ERR5514762   ivar  False\n",
       "4  MN908947.3       330         A         G  ERR5514762   ivar  False"
      ]
     },
     "execution_count": 39,
     "metadata": {},
     "output_type": "execute_result"
    }
   ],
   "source": [
    "ivar1 = load_sample(\"./ERR5514762/ERR5514762.preprocessed.ivar.tab\", sample_name=\"ERR5514762\", caller=\"ivar\")\n",
    "ivar2 = load_sample(\"./ERR5401235/ERR5401235.preprocessed.ivar.tab\", sample_name=\"ERR5401235\", caller=\"ivar\")\n",
    "ivar3 = load_sample(\"./ERR5409159/ERR5409159.preprocessed.ivar.tab\", sample_name=\"ERR5409159\", caller=\"ivar\")\n",
    "ivar4 = load_sample(\"./ERR5397623/ERR5397623.preprocessed.ivar.tab\", sample_name=\"ERR5397623\", caller=\"ivar\")\n",
    "ivar5 = load_sample(\"./ERR5229917/ERR5229917.preprocessed.ivar.tab\", sample_name=\"ERR5229917\", caller=\"ivar\")\n",
    "ivar = pd.concat([ivar1, ivar2, ivar3, ivar4, ivar5])\n",
    "ivar.head()"
   ]
  },
  {
   "cell_type": "code",
   "execution_count": 18,
   "id": "e018d1e9-c2f7-4547-a5f3-ad561cd05ce0",
   "metadata": {},
   "outputs": [
    {
     "name": "stdout",
     "output_type": "stream",
     "text": [
      "./ERR5514762/ERR5514762.preprocessed.gatk.tab\n",
      "./ERR5401235/ERR5401235.preprocessed.gatk.tab\n",
      "./ERR5409159/ERR5409159.preprocessed.gatk.tab\n",
      "./ERR5397623/ERR5397623.preprocessed.gatk.tab\n",
      "./ERR5229917/ERR5229917.preprocessed.gatk.tab\n"
     ]
    }
   ],
   "source": [
    "%%bash\n",
    "find . -name *.gatk.tab"
   ]
  },
  {
   "cell_type": "code",
   "execution_count": 40,
   "id": "34182007-e581-4123-a1b1-1e3a9fa9b4dc",
   "metadata": {},
   "outputs": [
    {
     "data": {
      "text/html": [
       "<div>\n",
       "<style scoped>\n",
       "    .dataframe tbody tr th:only-of-type {\n",
       "        vertical-align: middle;\n",
       "    }\n",
       "\n",
       "    .dataframe tbody tr th {\n",
       "        vertical-align: top;\n",
       "    }\n",
       "\n",
       "    .dataframe thead th {\n",
       "        text-align: right;\n",
       "    }\n",
       "</style>\n",
       "<table border=\"1\" class=\"dataframe\">\n",
       "  <thead>\n",
       "    <tr style=\"text-align: right;\">\n",
       "      <th></th>\n",
       "      <th>chromosome</th>\n",
       "      <th>position</th>\n",
       "      <th>reference</th>\n",
       "      <th>alternate</th>\n",
       "      <th>sample</th>\n",
       "      <th>caller</th>\n",
       "      <th>indel</th>\n",
       "    </tr>\n",
       "  </thead>\n",
       "  <tbody>\n",
       "    <tr>\n",
       "      <th>0</th>\n",
       "      <td>MN908947.3</td>\n",
       "      <td>241</td>\n",
       "      <td>C</td>\n",
       "      <td>T</td>\n",
       "      <td>ERR5514762</td>\n",
       "      <td>gatk</td>\n",
       "      <td>False</td>\n",
       "    </tr>\n",
       "    <tr>\n",
       "      <th>1</th>\n",
       "      <td>MN908947.3</td>\n",
       "      <td>913</td>\n",
       "      <td>C</td>\n",
       "      <td>T</td>\n",
       "      <td>ERR5514762</td>\n",
       "      <td>gatk</td>\n",
       "      <td>False</td>\n",
       "    </tr>\n",
       "    <tr>\n",
       "      <th>2</th>\n",
       "      <td>MN908947.3</td>\n",
       "      <td>2453</td>\n",
       "      <td>C</td>\n",
       "      <td>T</td>\n",
       "      <td>ERR5514762</td>\n",
       "      <td>gatk</td>\n",
       "      <td>False</td>\n",
       "    </tr>\n",
       "    <tr>\n",
       "      <th>3</th>\n",
       "      <td>MN908947.3</td>\n",
       "      <td>3037</td>\n",
       "      <td>C</td>\n",
       "      <td>T</td>\n",
       "      <td>ERR5514762</td>\n",
       "      <td>gatk</td>\n",
       "      <td>False</td>\n",
       "    </tr>\n",
       "    <tr>\n",
       "      <th>4</th>\n",
       "      <td>MN908947.3</td>\n",
       "      <td>5259</td>\n",
       "      <td>C</td>\n",
       "      <td>CAGGCACAGG</td>\n",
       "      <td>ERR5514762</td>\n",
       "      <td>gatk</td>\n",
       "      <td>True</td>\n",
       "    </tr>\n",
       "  </tbody>\n",
       "</table>\n",
       "</div>"
      ],
      "text/plain": [
       "   chromosome  position reference   alternate      sample caller  indel\n",
       "0  MN908947.3       241         C           T  ERR5514762   gatk  False\n",
       "1  MN908947.3       913         C           T  ERR5514762   gatk  False\n",
       "2  MN908947.3      2453         C           T  ERR5514762   gatk  False\n",
       "3  MN908947.3      3037         C           T  ERR5514762   gatk  False\n",
       "4  MN908947.3      5259         C  CAGGCACAGG  ERR5514762   gatk   True"
      ]
     },
     "execution_count": 40,
     "metadata": {},
     "output_type": "execute_result"
    }
   ],
   "source": [
    "gatk1 = load_sample(\"./ERR5514762/ERR5514762.preprocessed.gatk.tab\", sample_name=\"ERR5514762\", caller=\"gatk\")\n",
    "gatk2 = load_sample(\"./ERR5401235/ERR5401235.preprocessed.gatk.tab\", sample_name=\"ERR5401235\", caller=\"gatk\")\n",
    "gatk3 = load_sample(\"./ERR5409159/ERR5409159.preprocessed.gatk.tab\", sample_name=\"ERR5409159\", caller=\"gatk\")\n",
    "gatk4 = load_sample(\"./ERR5397623/ERR5397623.preprocessed.gatk.tab\", sample_name=\"ERR5397623\", caller=\"gatk\")\n",
    "gatk5 = load_sample(\"./ERR5229917/ERR5229917.preprocessed.gatk.tab\", sample_name=\"ERR5229917\", caller=\"gatk\")\n",
    "gatk = pd.concat([gatk1, gatk2, gatk3, gatk4, gatk5])\n",
    "gatk.head()"
   ]
  },
  {
   "cell_type": "code",
   "execution_count": 19,
   "id": "b402462e-0151-469b-9466-518376407314",
   "metadata": {},
   "outputs": [
    {
     "name": "stdout",
     "output_type": "stream",
     "text": [
      "./ERR5514762/ERR5514762.annotated.tab\n",
      "./ERR5401235/ERR5401235.annotated.tab\n",
      "./ERR5409159/ERR5409159.annotated.tab\n",
      "./ERR5397623/ERR5397623.annotated.tab\n",
      "./ERR5229917/ERR5229917.annotated.tab\n"
     ]
    }
   ],
   "source": [
    "%%bash\n",
    "find . -name *.annotated.tab"
   ]
  },
  {
   "cell_type": "code",
   "execution_count": 41,
   "id": "ade595c5-95a0-46d3-a6d8-97f6b78cb47e",
   "metadata": {},
   "outputs": [
    {
     "data": {
      "text/html": [
       "<div>\n",
       "<style scoped>\n",
       "    .dataframe tbody tr th:only-of-type {\n",
       "        vertical-align: middle;\n",
       "    }\n",
       "\n",
       "    .dataframe tbody tr th {\n",
       "        vertical-align: top;\n",
       "    }\n",
       "\n",
       "    .dataframe thead th {\n",
       "        text-align: right;\n",
       "    }\n",
       "</style>\n",
       "<table border=\"1\" class=\"dataframe\">\n",
       "  <thead>\n",
       "    <tr style=\"text-align: right;\">\n",
       "      <th></th>\n",
       "      <th>chromosome</th>\n",
       "      <th>position</th>\n",
       "      <th>reference</th>\n",
       "      <th>alternate</th>\n",
       "      <th>sample</th>\n",
       "      <th>caller</th>\n",
       "      <th>indel</th>\n",
       "    </tr>\n",
       "  </thead>\n",
       "  <tbody>\n",
       "    <tr>\n",
       "      <th>0</th>\n",
       "      <td>MN908947.3</td>\n",
       "      <td>241</td>\n",
       "      <td>C</td>\n",
       "      <td>T</td>\n",
       "      <td>ERR5514762</td>\n",
       "      <td>bcftools</td>\n",
       "      <td>False</td>\n",
       "    </tr>\n",
       "    <tr>\n",
       "      <th>1</th>\n",
       "      <td>MN908947.3</td>\n",
       "      <td>913</td>\n",
       "      <td>C</td>\n",
       "      <td>T</td>\n",
       "      <td>ERR5514762</td>\n",
       "      <td>bcftools</td>\n",
       "      <td>False</td>\n",
       "    </tr>\n",
       "    <tr>\n",
       "      <th>2</th>\n",
       "      <td>MN908947.3</td>\n",
       "      <td>2453</td>\n",
       "      <td>C</td>\n",
       "      <td>T</td>\n",
       "      <td>ERR5514762</td>\n",
       "      <td>bcftools</td>\n",
       "      <td>False</td>\n",
       "    </tr>\n",
       "    <tr>\n",
       "      <th>3</th>\n",
       "      <td>MN908947.3</td>\n",
       "      <td>3037</td>\n",
       "      <td>C</td>\n",
       "      <td>T</td>\n",
       "      <td>ERR5514762</td>\n",
       "      <td>bcftools</td>\n",
       "      <td>False</td>\n",
       "    </tr>\n",
       "    <tr>\n",
       "      <th>4</th>\n",
       "      <td>MN908947.3</td>\n",
       "      <td>5087</td>\n",
       "      <td>A</td>\n",
       "      <td>G</td>\n",
       "      <td>ERR5514762</td>\n",
       "      <td>bcftools</td>\n",
       "      <td>False</td>\n",
       "    </tr>\n",
       "  </tbody>\n",
       "</table>\n",
       "</div>"
      ],
      "text/plain": [
       "   chromosome  position reference alternate      sample    caller  indel\n",
       "0  MN908947.3       241         C         T  ERR5514762  bcftools  False\n",
       "1  MN908947.3       913         C         T  ERR5514762  bcftools  False\n",
       "2  MN908947.3      2453         C         T  ERR5514762  bcftools  False\n",
       "3  MN908947.3      3037         C         T  ERR5514762  bcftools  False\n",
       "4  MN908947.3      5087         A         G  ERR5514762  bcftools  False"
      ]
     },
     "execution_count": 41,
     "metadata": {},
     "output_type": "execute_result"
    }
   ],
   "source": [
    "bcftools1 = load_sample(\"./ERR5514762/ERR5514762.annotated.tab\", sample_name=\"ERR5514762\", caller=\"bcftools\")\n",
    "bcftools2 = load_sample(\"./ERR5401235/ERR5401235.annotated.tab\", sample_name=\"ERR5401235\", caller=\"bcftools\")\n",
    "bcftools3 = load_sample(\"./ERR5409159/ERR5409159.annotated.tab\", sample_name=\"ERR5409159\", caller=\"bcftools\")\n",
    "bcftools4 = load_sample(\"./ERR5397623/ERR5397623.annotated.tab\", sample_name=\"ERR5397623\", caller=\"bcftools\")\n",
    "bcftools5 = load_sample(\"./ERR5229917/ERR5229917.annotated.tab\", sample_name=\"ERR5229917\", caller=\"bcftools\")\n",
    "bcftools = pd.concat([bcftools1, bcftools2, bcftools3, bcftools4, bcftools5])\n",
    "bcftools.head()"
   ]
  },
  {
   "cell_type": "code",
   "execution_count": 48,
   "id": "7a34bd6a-d8cb-4dea-92f7-5c080acf05c1",
   "metadata": {},
   "outputs": [],
   "source": [
    "all_callers = pd.concat([lofreq, lofreq_01, lofreq_02, ivar, gatk, bcftools])"
   ]
  },
  {
   "cell_type": "code",
   "execution_count": null,
   "id": "fee02a4b-97d0-44aa-bd77-220bc2713193",
   "metadata": {},
   "outputs": [],
   "source": [
    "## Visualization methods"
   ]
  },
  {
   "cell_type": "code",
   "execution_count": 42,
   "id": "a0999441-a9be-4329-aee8-0d692fba77d7",
   "metadata": {},
   "outputs": [],
   "source": [
    "def plot_upset(data, figure_name, annotations=[]):\n",
    "    table = data.groupby(['chromosome', 'position', 'reference', 'alternate', 'sample', 'caller']).size().unstack(fill_value=0).astype(bool)\n",
    "    all_afs = data.set_index(['chromosome', 'position', 'reference', 'alternate', 'sample'])\n",
    "    all_afs = all_afs.loc[~all_afs.index.duplicated(keep='first')]\n",
    "    table = table.reset_index().join(all_afs, how='inner', on=['chromosome', 'position', 'reference', 'alternate', 'sample'])\n",
    "    table = table.set_index(list(set(data.caller)))\n",
    "    upset = upsetplot.UpSet(table, subset_size='count', intersection_plot_elements=2, facecolor='steelblue', show_counts=True, element_size=50)\n",
    "    colors= ['orange', 'forestgreen', 'indianred']\n",
    "    for a, c in zip(annotations, colors):\n",
    "            upset.add_catplot(value=a, kind='strip', color=c, alpha=0.4)\n",
    "    fig = plt.figure(figsize=(300,100))\n",
    "    upset.plot(fig=fig)\n",
    "    fig.savefig(figure_name)\n",
    "    return upset, table"
   ]
  },
  {
   "cell_type": "code",
   "execution_count": null,
   "id": "af2175ac-3faa-4644-9d48-caac109c0291",
   "metadata": {},
   "outputs": [],
   "source": [
    "def lineplot_attribute_by_caller_and_sample(data, attribute, title, yaxis_label, figure_name):\n",
    "\n",
    "    gridkw = dict(height_ratios=[4, 1], hspace=0)\n",
    "    fig, (ax1, ax2) = plt.subplots(2, 1, gridspec_kw=gridkw, figsize=(15, 10))\n",
    "\n",
    "    data = data.sort_values(['htc', 'sample'])\n",
    "    g = sns.lineplot(x=\"sample\", y=attribute, hue=\"caller\", style='purity_level', markers=True, sort=False, data=data, ax=ax1)\n",
    "    g = sns.lineplot(x=\"sample\", y=\"htc\", style='purity_level', color='grey', markers=True, sort=False, legend=False, data=data, ax=ax2)\n",
    "    ax1.set_xlabel(None)\n",
    "    ax1.set_xticklabels([])\n",
    "    for label in ax2.get_xticklabels():\n",
    "        label.set_rotation(45)\n",
    "    ax1.set_title(title)\n",
    "    ax1.set_ylabel(yaxis_label)\n",
    "    ax2.set_ylabel(\"HTC\")\n",
    "    ax2.set_xlabel(None)\n",
    "    fig.savefig(figure_name)"
   ]
  },
  {
   "cell_type": "code",
   "execution_count": 43,
   "id": "afcc98bc-d37e-43c0-98b7-732f31b0cda8",
   "metadata": {},
   "outputs": [
    {
     "data": {
      "image/png": "[encoded data removed]",
      "text/plain": [
       "<Figure size 956.625x400 with 4 Axes>"
      ]
     },
     "metadata": {
      "needs_background": "light"
     },
     "output_type": "display_data"
    }
   ],
   "source": [
    "upset, table = plot_upset(data=all_callers, figure_name='figure_00_all_variants_upset.png')"
   ]
  },
  {
   "cell_type": "code",
   "execution_count": 44,
   "id": "e64c5c33-eccc-4884-bcf5-760c1eddd671",
   "metadata": {},
   "outputs": [
    {
     "data": {
      "image/png": "[encoded data removed]",
      "text/plain": [
       "<Figure size 806.625x350 with 4 Axes>"
      ]
     },
     "metadata": {
      "needs_background": "light"
     },
     "output_type": "display_data"
    }
   ],
   "source": [
    "upset, table = plot_upset(data=all_callers[all_callers[\"caller\"] != \"lofreq\"], figure_name='figure_00_all_variants_without_unfiltered_upset.png')"
   ]
  },
  {
   "cell_type": "code",
   "execution_count": 49,
   "id": "a338b768-2ef3-4496-bb1f-86d29c284ea3",
   "metadata": {},
   "outputs": [
    {
     "data": {
      "image/png": "[encoded data removed]",
      "text/plain": [
       "<Figure size 606.625x350 with 4 Axes>"
      ]
     },
     "metadata": {
      "needs_background": "light"
     },
     "output_type": "display_data"
    }
   ],
   "source": [
    "upset, table = plot_upset(data=all_callers[(all_callers[\"caller\"] != \"lofreq\") & (all_callers.indel == False)], figure_name='figure_00_all_variants_without_unfiltered_only_snps_upset.png')"
   ]
  },
  {
   "cell_type": "code",
   "execution_count": 50,
   "id": "58dee906-a396-4050-8fad-040bc51ef26b",
   "metadata": {},
   "outputs": [
    {
     "data": {
      "image/png": "[encoded data removed]",
      "text/plain": [
       "<Figure size 506.625x350 with 4 Axes>"
      ]
     },
     "metadata": {
      "needs_background": "light"
     },
     "output_type": "display_data"
    }
   ],
   "source": [
    "upset, table = plot_upset(data=all_callers[(all_callers[\"caller\"] != \"lofreq\") & (all_callers.indel == True)], figure_name='figure_00_all_variants_without_unfiltered_only_indels_upset.png')"
   ]
  }
 ],
 "metadata": {
  "kernelspec": {
   "display_name": "Python 3",
   "language": "python",
   "name": "python3"
  },
  "language_info": {
   "codemirror_mode": {
    "name": "ipython",
    "version": 3
   },
   "file_extension": ".py",
   "mimetype": "text/x-python",
   "name": "python",
   "nbconvert_exporter": "python",
   "pygments_lexer": "ipython3",
   "version": "3.9.4"
  }
 },
 "nbformat": 4,
 "nbformat_minor": 5
}
